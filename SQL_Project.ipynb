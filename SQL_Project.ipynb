{
  "nbformat": 4,
  "nbformat_minor": 0,
  "metadata": {
    "colab": {
      "provenance": [],
      "authorship_tag": "ABX9TyNdVWg+0sLHPtOQUc8Wa2l8",
      "include_colab_link": true
    },
    "kernelspec": {
      "name": "python3",
      "display_name": "Python 3"
    },
    "language_info": {
      "name": "python"
    }
  },
  "cells": [
    {
      "cell_type": "markdown",
      "metadata": {
        "id": "view-in-github",
        "colab_type": "text"
      },
      "source": [
        "<a href=\"https://colab.research.google.com/github/Matanrot/BI-Project/blob/YuvalNini/SQL_Project.ipynb\" target=\"_parent\"><img src=\"https://colab.research.google.com/assets/colab-badge.svg\" alt=\"Open In Colab\"/></a>"
      ]
    },
    {
      "cell_type": "code",
      "execution_count": 1,
      "metadata": {
        "colab": {
          "base_uri": "https://localhost:8080/"
        },
        "id": "xaACYRMaIhOK",
        "outputId": "01755394-7716-4bda-c4d9-060c22d2e8cf"
      },
      "outputs": [
        {
          "output_type": "stream",
          "name": "stdout",
          "text": [
            "Looking in indexes: https://pypi.org/simple, https://us-python.pkg.dev/colab-wheels/public/simple/\n",
            "Collecting pyspark\n",
            "  Downloading pyspark-3.4.0.tar.gz (310.8 MB)\n",
            "\u001b[2K     \u001b[90m━━━━━━━━━━━━━━━━━━━━━━━━━━━━━━━━━━━━━━━\u001b[0m \u001b[32m310.8/310.8 MB\u001b[0m \u001b[31m4.7 MB/s\u001b[0m eta \u001b[36m0:00:00\u001b[0m\n",
            "\u001b[?25h  Preparing metadata (setup.py) ... \u001b[?25l\u001b[?25hdone\n",
            "Requirement already satisfied: py4j==0.10.9.7 in /usr/local/lib/python3.10/dist-packages (from pyspark) (0.10.9.7)\n",
            "Building wheels for collected packages: pyspark\n",
            "  Building wheel for pyspark (setup.py) ... \u001b[?25l\u001b[?25hdone\n",
            "  Created wheel for pyspark: filename=pyspark-3.4.0-py2.py3-none-any.whl size=311317130 sha256=b2ed2de84e978cc292a3eca952e0c671af48028e82cc0c413b106f389dee3702\n",
            "  Stored in directory: /root/.cache/pip/wheels/7b/1b/4b/3363a1d04368e7ff0d408e57ff57966fcdf00583774e761327\n",
            "Successfully built pyspark\n",
            "Installing collected packages: pyspark\n",
            "Successfully installed pyspark-3.4.0\n"
          ]
        }
      ],
      "source": [
        "import os\n",
        "import sys\n",
        "\n",
        "!pip install pyspark\n",
        "os.environ[\"PYSPARK_PYTHON\"] = sys.executable\n"
      ]
    },
    {
      "cell_type": "code",
      "source": [
        "from pyspark import SparkContext, SparkConf, SQLContext\n",
        "from pyspark.sql.functions import sum\n",
        "\n",
        "# SparkConf - Configuration Before SQL & Content\n",
        "conf = SparkConf().setAppName(\"firstApp\").setMaster(\"local[*]\") \n",
        "sc = SparkContext(conf=conf)\n",
        "sc.setLogLevel(\"ERROR\")\n",
        "sqlContext = SQLContext(sc)\n"
      ],
      "metadata": {
        "colab": {
          "base_uri": "https://localhost:8080/"
        },
        "id": "OlQL24OVJn4A",
        "outputId": "59e7c973-4970-4288-8b8d-019730490c37"
      },
      "execution_count": 2,
      "outputs": [
        {
          "output_type": "stream",
          "name": "stderr",
          "text": [
            "/usr/local/lib/python3.10/dist-packages/pyspark/sql/context.py:112: FutureWarning: Deprecated in 3.0.0. Use SparkSession.builder.getOrCreate() instead.\n",
            "  warnings.warn(\n"
          ]
        }
      ]
    },
    {
      "cell_type": "code",
      "source": [
        "df = sqlContext.read.options(header='True', inferSchema='True').csv(\"Glassdoor Gender.csv\")\n",
        "df.show(10)\n"
      ],
      "metadata": {
        "colab": {
          "base_uri": "https://localhost:8080/"
        },
        "id": "0AhlgCiKJpyI",
        "outputId": "c3ed412c-1146-4bfc-b8d1-a5d1326539b0"
      },
      "execution_count": 3,
      "outputs": [
        {
          "output_type": "stream",
          "name": "stdout",
          "text": [
            "+-------------------+------+---+--------+-----------+--------------+---------+-----------+----------+-------------+-----------+\n",
            "|           JobTitle|Gender|Age|PerfEval|  Education|          Dept|Seniority| Salary($) | Bonus($) |Require-level|ID employee|\n",
            "+-------------------+------+---+--------+-----------+--------------+---------+-----------+----------+-------------+-----------+\n",
            "|   Graphic Designer|Female| 18|       5|    College|    Operations|        2|     42,363|     9,938|       Junior|       6789|\n",
            "|Warehouse Associate|Female| 19|       4|        PhD|Administration|        5|     90,208|     9,268|       medium|       6790|\n",
            "|                 IT|Female| 20|       5|        PhD|    Operations|        4|     70,890|    10,126|       medium|       6791|\n",
            "|   Graphic Designer|Female| 20|       5|    College|         Sales|        4|     67,585|    10,541|       medium|       6792|\n",
            "|   Graphic Designer|Female| 33|       5|High School|   Engineering|        5|    112,976|     9,836|       medium|       6793|\n",
            "|    Sales Associate|Female| 35|       5|    College|   Engineering|        5|    106,524|     9,941|       medium|       6794|\n",
            "|             Driver|Female| 18|       5|    College|    Management|        3|     62,759|    10,124|       medium|       6795|\n",
            "|  Financial Analyst|Female| 19|       5|    College|         Sales|        3|     84,007|     8,990|       medium|       6796|\n",
            "|Warehouse Associate|Female| 30|       5|    Masters|Administration|        5|     86,220|     9,583|       medium|       6797|\n",
            "|Warehouse Associate|Female| 35|       5|        PhD|    Operations|        4|     95,584|     9,745|       medium|       6798|\n",
            "+-------------------+------+---+--------+-----------+--------------+---------+-----------+----------+-------------+-----------+\n",
            "only showing top 10 rows\n",
            "\n"
          ]
        }
      ]
    },
    {
      "cell_type": "code",
      "source": [
        "\n",
        "from pyspark.sql import SparkSession\n",
        "from pyspark.sql.functions import avg, col, when\n",
        "from pyspark.sql.window import Window\n",
        "\n",
        "# Create a SparkSession\n",
        "spark = SparkSession.builder.appName(\"Glassdoor\").getOrCreate()\n",
        "\n",
        "# Read the CSV file into a DataFrame\n",
        "df = spark.read.csv(\"Glassdoor Gender.csv\", header=True, inferSchema=True)\n",
        "\n",
        "# Remove leading and trailing spaces from column names\n",
        "df = df.toDF(*(c.strip() for c in df.columns))\n",
        "\n",
        "# Register the DataFrame as a temporary table\n",
        "df.createOrReplaceTempView(\"GlassdoorGenderTable\")\n",
        "\n",
        "# Query 1 : Gender wage gap by industry\n",
        "\n",
        "# Calculate average salary, average male salary, average female salary, and wage gap\n",
        "windowSpec = Window.partitionBy(\"Dept\")\n",
        "\n",
        "result = df.withColumn(\"Avg_Salary\", avg(\"Salary($)\").over(windowSpec)) \\\n",
        "    .withColumn(\"Avg_Male_Salary\", avg(when(col(\"Gender\") == \"Male\", col(\"Salary($)\"))).over(windowSpec)) \\\n",
        "    .withColumn(\"Avg_Female_Salary\", avg(when(col(\"Gender\") == \"Female\", col(\"Salary($)\"))).over(windowSpec)) \\\n",
        "    .withColumn(\"Wage_Gap\", col(\"Avg_Male_Salary\") - col(\"Avg_Female_Salary\"))\n",
        "\n",
        "# Show the result\n",
        "result.show()\n",
        "\n"
      ],
      "metadata": {
        "id": "M5QDlP1XJpXG"
      },
      "execution_count": null,
      "outputs": []
    },
    {
      "cell_type": "code",
      "source": [
        "# Query 2 : Gender wage gap by job type\n",
        "\n",
        "# Calculate average salary, average male salary, average female salary, and wage gap\n",
        "windowSpec = Window.partitionBy(\"JobTitle\")\n",
        "\n",
        "result = df.withColumn(\"Avg_Salary\", avg(col(\"Salary($)\")).over(windowSpec)) \\\n",
        "    .withColumn(\"Avg_Male_Salary\", avg(when(col(\"Gender\") == \"Male\", col(\"Salary($)\"))).over(windowSpec)) \\\n",
        "    .withColumn(\"Avg_Female_Salary\", avg(when(col(\"Gender\") == \"Female\", col(\"Salary($)\"))).over(windowSpec)) \\\n",
        "    .withColumn(\"Wage_Gap\", col(\"Avg_Male_Salary\") - col(\"Avg_Female_Salary\"))\n",
        "\n",
        "# Show the result\n",
        "result.show()\n"
      ],
      "metadata": {
        "id": "0Gv9C1QkMPxi"
      },
      "execution_count": null,
      "outputs": []
    },
    {
      "cell_type": "code",
      "source": [
        "# Query 3 : Gender wage gaps by education level\n",
        "\n",
        "# Calculate average salary, average male salary, average female salary, and wage gap\n",
        "windowSpec = Window.partitionBy(\"Education\")\n",
        "\n",
        "result = df.withColumn(\"Avg_Salary\", avg(col(\"Salary($)\")).over(windowSpec)) \\\n",
        "    .withColumn(\"Avg_Male_Salary\", avg(when(col(\"Gender\") == \"Male\", col(\"Salary($)\"))).over(windowSpec)) \\\n",
        "    .withColumn(\"Avg_Female_Salary\", avg(when(col(\"Gender\") == \"Female\", col(\"Salary($)\"))).over(windowSpec)) \\\n",
        "    .withColumn(\"Wage_Gap\", col(\"Avg_Male_Salary\") - col(\"Avg_Female_Salary\"))\n",
        "\n",
        "# Show the result\n",
        "result.show()\n"
      ],
      "metadata": {
        "id": "JyZrkFmTNt6n"
      },
      "execution_count": null,
      "outputs": []
    },
    {
      "cell_type": "code",
      "source": [
        "# Query 4 : Salary increase by years of experience\n",
        "\n",
        "# Calculate average salary and salary increase\n",
        "windowSpec = Window.partitionBy(\"Dept\", \"Seniority\").orderBy(\"Seniority\")\n",
        "\n",
        "result = df.withColumn(\"Avg_Salary\", avg(col(\"Salary($)\")).over(windowSpec)) \\\n",
        "    .withColumn(\"Salary_Increase\", avg(col(\"Salary($)\")).over(windowSpec) - lag(col(\"Avg_Salary\")).over(windowSpec)) \\\n",
        "    .groupBy(\"Seniority\", \"Dept\", \"Salary_Increase\") \\\n",
        "    .agg(avg(col(\"Salary($)\")).alias(\"Avg_Salary\"))\n",
        "\n",
        "# Show the result\n",
        "result.show()\n",
        "\n"
      ],
      "metadata": {
        "id": "IR2k_aArOZQR"
      },
      "execution_count": null,
      "outputs": []
    },
    {
      "cell_type": "code",
      "source": [
        "# Query 5 : Salary growth rate by years of work experience\n",
        "\n",
        "windowSpec = Window.partitionBy(\"Dept\").orderBy(\"Seniority\")\n",
        "\n",
        "result = df.withColumn(\"Avg_Salary\", avg(col(\"Salary($)\").cast(\"double\")).over(windowSpec)) \\\n",
        "    .withColumn(\"Salary_Growth_Rate\", ((col(\"Avg_Salary\") - lag(col(\"Avg_Salary\")).over(windowSpec)) / lag(col(\"Avg_Salary\")).over(windowSpec)).cast(\"double\") * 100) \\\n",
        "    .select(\"Seniority\", \"Dept\", \"Avg_Salary\", \"Salary_Growth_Rate\") \\\n",
        "    .groupBy(\"Seniority\", \"Dept\", \"Avg_Salary\", \"Salary_Growth_Rate\") \\\n",
        "    .agg(F.max(\"Salary_Growth_Rate\").alias(\"Max_Salary_Growth_Rate\"))\n",
        "\n",
        "result.show()\n",
        "\n",
        "\n"
      ],
      "metadata": {
        "id": "P68JslF8Pn53"
      },
      "execution_count": null,
      "outputs": []
    },
    {
      "cell_type": "code",
      "source": [
        "# Query 6 : Salary distribution by years of work experience\n",
        "\n",
        "# Register the DataFrame as a temporary table\n",
        "df.createOrReplaceTempView(\"GlassdoorGenderTable\")\n",
        "\n",
        "# Perform the query\n",
        "query = \"\"\"\n",
        "SELECT Seniority,\n",
        "       Dept,\n",
        "       `Salary($)` AS Salary,\n",
        "       NTILE(4) OVER (PARTITION BY Dept ORDER BY Seniority) AS Quartile\n",
        "FROM GlassdoorGenderTable\n",
        "\"\"\"\n",
        "result = spark.sql(query)\n",
        "\n",
        "# Show the result\n",
        "result.show()\n",
        "\n"
      ],
      "metadata": {
        "id": "mVlHc_ViPrfQ"
      },
      "execution_count": null,
      "outputs": []
    },
    {
      "cell_type": "code",
      "source": [],
      "metadata": {
        "id": "ve4EQF6XZSCX"
      },
      "execution_count": null,
      "outputs": []
    }
  ]
}